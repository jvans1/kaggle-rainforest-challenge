{
 "cells": [
  {
   "cell_type": "code",
   "execution_count": 1,
   "metadata": {
    "collapsed": false
   },
   "outputs": [
    {
     "name": "stderr",
     "output_type": "stream",
     "text": [
      "Using Theano backend.\n",
      "WARNING (theano.sandbox.cuda): The cuda backend is deprecated and will be removed in the next release (v0.10).  Please switch to the gpuarray backend. You can get more information about how to switch at this URL:\n",
      " https://github.com/Theano/Theano/wiki/Converting-to-the-new-gpu-back-end%28gpuarray%29\n",
      "\n",
      "Using gpu device 0: Tesla K80 (CNMeM is disabled, cuDNN 5103)\n"
     ]
    },
    {
     "data": {
      "text/plain": [
       "<module 'models.model' from 'models/model.pyc'>"
      ]
     },
     "execution_count": 1,
     "metadata": {},
     "output_type": "execute_result"
    }
   ],
   "source": [
    "from keras.optimizers import Adam\n",
    "from keras.callbacks import LearningRateScheduler\n",
    "from keras.preprocessing.image import ImageDataGenerator\n",
    "import utils as U\n",
    "reload(U)\n",
    "import image_loader as IM\n",
    "reload(IM)\n",
    "from theano.sandbox import cuda\n",
    "from keras.preprocessing import image\n",
    "%matplotlib inline\n",
    "import os\n",
    "from keras.models import Model\n",
    "from keras.layers import Dense, BatchNormalization, Input, Flatten, Conv2D, AveragePooling2D\n",
    "from keras.optimizers import Adam\n",
    "import models.model as M\n",
    "from keras.layers import Flatten, Dense, BatchNormalization\n",
    "from keras.models import Sequential\n",
    "from keras.layers import Dropout\n",
    "from keras.regularizers import l2\n",
    "reload(M)"
   ]
  },
  {
   "cell_type": "markdown",
   "metadata": {},
   "source": [
    "# Pre compute Convolutional Layers"
   ]
  },
  {
   "cell_type": "code",
   "execution_count": 2,
   "metadata": {
    "collapsed": true
   },
   "outputs": [],
   "source": [
    "folder = \"data/train/\"\n",
    "train_folder = folder+\"train\"\n",
    "train_filenames = os.listdir(train_folder)\n",
    "validation_folder = folder+\"valid\"\n",
    "validation_filenames = os.listdir(validation_folder)\n",
    "batch_size = 64\n",
    "train_batch_count = len(train_filenames) / batch_size\n",
    "val_batch_count = len(validation_filenames) / batch_size"
   ]
  },
  {
   "cell_type": "code",
   "execution_count": 19,
   "metadata": {
    "collapsed": true
   },
   "outputs": [],
   "source": [
    "gen_t = image.ImageDataGenerator(vertical_flip=True, horizontal_flip=True)\n",
    "\n",
    "gen = IM.DirectoryIterator(train_folder, train_filenames, image_processor=gen_t, one_hot_filename_mapping=mapping, batch_size=batch_size, shuffle=False)\n",
    "val_gen = IM.DirectoryIterator(validation_folder, validation_filenames, one_hot_filename_mapping=mapping, batch_size=batch_size, shuffle=False)"
   ]
  },
  {
   "cell_type": "code",
   "execution_count": 32,
   "metadata": {
    "collapsed": false
   },
   "outputs": [],
   "source": [
    "model = M.full_model(weights_file=\"weights/best/partly-cloudy-full-training.01-0.25.hdf5\")\n",
    "conv_model = Sequential(model.layers[:-len(M.dense_layers())])"
   ]
  },
  {
   "cell_type": "code",
   "execution_count": 34,
   "metadata": {
    "collapsed": false
   },
   "outputs": [
    {
     "name": "stdout",
     "output_type": "stream",
     "text": [
      "544/544 [==============================] - 973s   \n",
      "88/88 [==============================] - 157s   \n"
     ]
    }
   ],
   "source": [
    "augmented_conv_features = conv_model.predict_generator(gen, train_batch_count, verbose=1)\n",
    "augmented_val_features = conv_model.predict_generator(val_gen, val_batch_count, verbose=1)\n",
    "\n",
    "U.save_array(\"precomputed-partly-cloudy-conv-features\", augmented_conv_features)\n",
    "U.save_array(\"precomputed-partly-cloudy-conv-val-features\", augmented_val_features)"
   ]
  },
  {
   "cell_type": "markdown",
   "metadata": {},
   "source": [
    "# Train Dense Layers"
   ]
  },
  {
   "cell_type": "code",
   "execution_count": 3,
   "metadata": {
    "collapsed": true
   },
   "outputs": [],
   "source": [
    "from utils import binary_one_hot_mapping\n",
    "augmented_conv_features = U.load_array(\"precomputed-partly-cloudy-conv-features\")\n",
    "augmented_val_features = U.load_array(\"precomputed-partly-cloudy-conv-val-features\")\n",
    "batch_size = 64\n",
    "mapping = binary_one_hot_mapping(\"cloudy\")\n",
    "\n",
    "train_labels = [ mapping[fname] for fname in train_filenames ]\n",
    "valid_labels = [ mapping[fname] for fname in validation_filenames ]"
   ]
  },
  {
   "cell_type": "code",
   "execution_count": 4,
   "metadata": {
    "collapsed": true
   },
   "outputs": [],
   "source": [
    "dense_layers = M.dense_layers(dropout=0.4, regularization=0.005)\n",
    "\n",
    "model = Sequential(dense_layers)"
   ]
  },
  {
   "cell_type": "code",
   "execution_count": 5,
   "metadata": {
    "collapsed": true
   },
   "outputs": [],
   "source": [
    "augmented_conv_features = U.load_array(\"precomputed-partly-cloudy-conv-features\",)\n",
    "augmented_val_features = U.load_array(\"precomputed-partly-cloudy-conv-val-features\")"
   ]
  },
  {
   "cell_type": "code",
   "execution_count": 6,
   "metadata": {
    "collapsed": false
   },
   "outputs": [
    {
     "name": "stdout",
     "output_type": "stream",
     "text": [
      "Train on 34816 samples, validate on 5632 samples\n",
      "Epoch 1/2\n",
      "34816/34816 [==============================] - 478s - loss: 2.4884 - acc: 0.9351 - val_loss: 1.0350 - val_acc: 0.9329\n",
      "Epoch 2/2\n",
      "34816/34816 [==============================] - 478s - loss: 0.7380 - acc: 0.9402 - val_loss: 0.5869 - val_acc: 0.9434\n"
     ]
    },
    {
     "data": {
      "text/plain": [
       "<keras.callbacks.History at 0x7fba3a488d90>"
      ]
     },
     "execution_count": 6,
     "metadata": {},
     "output_type": "execute_result"
    }
   ],
   "source": [
    "model.load_weights(\"weights/clear-top-1-epoch\")\n",
    "model.compile(optimizer=(Adam(lr=0.0001)), metrics=[\"accuracy\"], loss=\"categorical_crossentropy\")\n",
    "model.fit(augmented_conv_features, train_labels, epochs=2, validation_data=(augmented_val_features, valid_labels))"
   ]
  },
  {
   "cell_type": "code",
   "execution_count": 7,
   "metadata": {
    "collapsed": true
   },
   "outputs": [],
   "source": [
    "model.save_weights(\"weights/clear-top-2-epoch\")"
   ]
  },
  {
   "cell_type": "code",
   "execution_count": 8,
   "metadata": {
    "collapsed": false
   },
   "outputs": [
    {
     "name": "stdout",
     "output_type": "stream",
     "text": [
      "Train on 34816 samples, validate on 5632 samples\n",
      "Epoch 1/2\n",
      "34816/34816 [==============================] - 477s - loss: 0.5732 - acc: 0.9418 - val_loss: 0.4855 - val_acc: 0.9371\n",
      "Epoch 2/2\n",
      "34816/34816 [==============================] - 477s - loss: 0.5213 - acc: 0.9430 - val_loss: 0.4636 - val_acc: 0.9430\n"
     ]
    },
    {
     "data": {
      "text/plain": [
       "<keras.callbacks.History at 0x7fba47a99e10>"
      ]
     },
     "execution_count": 8,
     "metadata": {},
     "output_type": "execute_result"
    }
   ],
   "source": [
    "model.compile(optimizer=(Adam(lr=0.0001)), metrics=[\"accuracy\"], loss=\"categorical_crossentropy\")\n",
    "model.fit(augmented_conv_features, train_labels, epochs=2, validation_data=(augmented_val_features, valid_labels))"
   ]
  },
  {
   "cell_type": "code",
   "execution_count": 9,
   "metadata": {
    "collapsed": false
   },
   "outputs": [
    {
     "name": "stdout",
     "output_type": "stream",
     "text": [
      "Train on 34816 samples, validate on 5632 samples\n",
      "Epoch 1/2\n",
      "34816/34816 [==============================] - 477s - loss: 0.4801 - acc: 0.9434 - val_loss: 0.4720 - val_acc: 0.9396\n",
      "Epoch 2/2\n",
      "34816/34816 [==============================] - 477s - loss: 0.4584 - acc: 0.9429 - val_loss: 0.4192 - val_acc: 0.9432\n"
     ]
    },
    {
     "data": {
      "text/plain": [
       "<keras.callbacks.History at 0x7fba3a4a15d0>"
      ]
     },
     "execution_count": 9,
     "metadata": {},
     "output_type": "execute_result"
    }
   ],
   "source": [
    "model.save_weights(\"weights/clear-top-3-epoch\")\n",
    "model.fit(augmented_conv_features, train_labels, epochs=2, validation_data=(augmented_val_features, valid_labels))"
   ]
  },
  {
   "cell_type": "code",
   "execution_count": 11,
   "metadata": {
    "collapsed": false
   },
   "outputs": [
    {
     "name": "stdout",
     "output_type": "stream",
     "text": [
      "Train on 34816 samples, validate on 5632 samples\n",
      "Epoch 1/2\n",
      "34816/34816 [==============================] - 477s - loss: 0.4074 - acc: 0.9445 - val_loss: 0.4450 - val_acc: 0.9416\n",
      "Epoch 2/2\n",
      "34816/34816 [==============================] - 477s - loss: 0.3905 - acc: 0.9456 - val_loss: 0.4398 - val_acc: 0.9281\n"
     ]
    },
    {
     "data": {
      "text/plain": [
       "<keras.callbacks.History at 0x7fba475dded0>"
      ]
     },
     "execution_count": 11,
     "metadata": {},
     "output_type": "execute_result"
    }
   ],
   "source": [
    "model.optimizer.lr = 0.00001\n",
    "model.fit(augmented_conv_features, train_labels, epochs=2, validation_data=(augmented_val_features, valid_labels))"
   ]
  },
  {
   "cell_type": "code",
   "execution_count": null,
   "metadata": {
    "collapsed": true
   },
   "outputs": [],
   "source": []
  },
  {
   "cell_type": "markdown",
   "metadata": {},
   "source": [
    "# Save Full Models weights"
   ]
  },
  {
   "cell_type": "code",
   "execution_count": 12,
   "metadata": {
    "collapsed": true
   },
   "outputs": [],
   "source": [
    "model.load_weights(\"weights/clear-top-3-epoch\")\n",
    "conv_layers = M.vgg().layers\n",
    "full_model = Sequential(conv_layers + model.layers)\n",
    "full_model.save_weights(\"weights/best/no-conv-training/cloudy-acc-.9432-loss-.4192.hdf5\")"
   ]
  },
  {
   "cell_type": "code",
   "execution_count": null,
   "metadata": {
    "collapsed": true
   },
   "outputs": [],
   "source": []
  }
 ],
 "metadata": {
  "anaconda-cloud": {},
  "kernelspec": {
   "display_name": "Python [conda root]",
   "language": "python",
   "name": "conda-root-py"
  },
  "language_info": {
   "codemirror_mode": {
    "name": "ipython",
    "version": 2
   },
   "file_extension": ".py",
   "mimetype": "text/x-python",
   "name": "python",
   "nbconvert_exporter": "python",
   "pygments_lexer": "ipython2",
   "version": "2.7.12"
  }
 },
 "nbformat": 4,
 "nbformat_minor": 1
}
