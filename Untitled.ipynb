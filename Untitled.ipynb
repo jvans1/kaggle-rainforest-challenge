{
 "cells": [
  {
   "cell_type": "code",
   "execution_count": 93,
   "metadata": {
    "collapsed": false
   },
   "outputs": [],
   "source": [
    "from keras.optimizers import Adam\n",
    "from keras.callbacks import LearningRateScheduler\n",
    "from keras.preprocessing.image import ImageDataGenerator\n",
    "import utils as U\n",
    "reload(U)\n",
    "import image_loader as IM\n",
    "reload(image_loader)\n",
    "\n",
    "import os\n",
    "from keras.models import Model\n",
    "from keras.layers import Dense, BatchNormalization, Input, Flatten, Conv2D, AveragePooling2D\n",
    "from keras.optimizers import Adam"
   ]
  },
  {
   "cell_type": "code",
   "execution_count": 60,
   "metadata": {
    "collapsed": false
   },
   "outputs": [],
   "source": [
    "mapping = U.binary_one_hot_mapping(\"partly_cloudy\")"
   ]
  },
  {
   "cell_type": "code",
   "execution_count": 118,
   "metadata": {
    "collapsed": false
   },
   "outputs": [],
   "source": [
    "train_folder = \"data/samples/partly_cloudy/train\"\n",
    "train_filenames = os.listdir(train_folder)\n",
    "validation_folder = \"data/samples/partly_cloudy/valid\"\n",
    "validation_filenames = os.listdir(validation_folder)\n",
    "batch_size = 8\n",
    "train_batch_count = len(train_filenames) / batch_size\n",
    "val_batch_count = len(validation_filenames) / batch_size"
   ]
  },
  {
   "cell_type": "code",
   "execution_count": 119,
   "metadata": {
    "collapsed": false
   },
   "outputs": [],
   "source": [
    "gen = IM.DirectoryIterator(train_folder, train_filenames, one_hot_filename_mapping=mapping, batch_size=batch_size, shuffle=True)\n",
    "val_gen = IM.DirectoryIterator(validation_folder, validation_filenames, one_hot_filename_mapping=mapping, batch_size=batch_size, shuffle=True)"
   ]
  },
  {
   "cell_type": "markdown",
   "metadata": {},
   "source": [
    "# Linear model"
   ]
  },
  {
   "cell_type": "code",
   "execution_count": null,
   "metadata": {
    "collapsed": true
   },
   "outputs": [],
   "source": []
  },
  {
   "cell_type": "code",
   "execution_count": 69,
   "metadata": {
    "collapsed": false
   },
   "outputs": [],
   "source": [
    "inps = Input(shape=(256, 256, 4))\n",
    "x = BatchNormalization()(inps)\n",
    "x = Flatten()(x)\n",
    "x = Dense(2, activation=\"softmax\")(x)\n",
    "model = Model(inputs=inps, outputs=x)"
   ]
  },
  {
   "cell_type": "code",
   "execution_count": 70,
   "metadata": {
    "collapsed": false
   },
   "outputs": [],
   "source": [
    "model.compile(optimizer=(Adam(lr=0.001)), metrics=[\"accuracy\"], loss=\"binary_crossentropy\")"
   ]
  },
  {
   "cell_type": "code",
   "execution_count": 71,
   "metadata": {
    "collapsed": false
   },
   "outputs": [
    {
     "name": "stdout",
     "output_type": "stream",
     "text": [
      "Epoch 1/4\n",
      "37/37 [==============================] - 98s - loss: 4.8665 - acc: 0.6799 - val_loss: 4.8141 - val_acc: 0.6987\n",
      "Epoch 2/4\n",
      "37/37 [==============================] - 97s - loss: 4.9034 - acc: 0.6900 - val_loss: 4.7709 - val_acc: 0.7013\n",
      "Epoch 3/4\n",
      "37/37 [==============================] - 99s - loss: 4.8043 - acc: 0.6951 - val_loss: 4.9916 - val_acc: 0.6837\n",
      "Epoch 4/4\n",
      "37/37 [==============================] - 97s - loss: 5.0331 - acc: 0.6824 - val_loss: 4.7102 - val_acc: 0.7063\n"
     ]
    },
    {
     "data": {
      "text/plain": [
       "<keras.callbacks.History at 0x7fd4dbc10910>"
      ]
     },
     "execution_count": 71,
     "metadata": {},
     "output_type": "execute_result"
    }
   ],
   "source": [
    "model.fit_generator(gen,train_batch_count, epochs=4, validation_data=val_gen, validation_steps=val_batch_count)"
   ]
  },
  {
   "cell_type": "code",
   "execution_count": 73,
   "metadata": {
    "collapsed": false
   },
   "outputs": [
    {
     "name": "stdout",
     "output_type": "stream",
     "text": [
      "Epoch 1/1\n",
      "37/37 [==============================] - 98s - loss: 4.8985 - acc: 0.6926 - val_loss: 4.7830 - val_acc: 0.6987\n"
     ]
    },
    {
     "data": {
      "text/plain": [
       "<keras.callbacks.History at 0x7fd4d7d05990>"
      ]
     },
     "execution_count": 73,
     "metadata": {},
     "output_type": "execute_result"
    }
   ],
   "source": [
    "model.optimizer.lr=0.00001\n",
    "model.fit_generator(gen,train_batch_count, epochs=1, validation_data=val_gen, validation_steps=val_batch_count)"
   ]
  },
  {
   "cell_type": "markdown",
   "metadata": {},
   "source": [
    "# First Convolutional Model"
   ]
  },
  {
   "cell_type": "code",
   "execution_count": 126,
   "metadata": {
    "collapsed": false
   },
   "outputs": [],
   "source": [
    "inps = Input(shape=(256, 256, 4))\n",
    "x = BatchNormalization()(inps)\n",
    "x = Conv2D(32, (3,3), strides=(1,1), padding='valid', activation=\"relu\")(inps)\n",
    "x = BatchNormalization()(x)\n",
    "x = AveragePooling2D(pool_size=(2,2))(x)\n",
    "x = Conv2D(64, (3,3), strides=(1,1), padding='valid', activation=\"relu\")(inps)\n",
    "x = BatchNormalization()(x)\n",
    "x = AveragePooling2D(pool_size=(2,2))(x)\n",
    "x = Conv2D(128, (3,3), strides=(1,1), padding='valid', activation=\"relu\")(inps)\n",
    "x = BatchNormalization()(x)\n",
    "x = AveragePooling2D(pool_size=(2,2))(x)\n",
    "x = AveragePooling2D(pool_size=(2,2))(x)\n",
    "x = Flatten()(x)\n",
    "x = Dense(128, activation=\"relu\")(x)\n",
    "x = BatchNormalization()(x)\n",
    "x = Dense(2, activation=\"softmax\")(x)\n",
    "model = Model(inputs=inps, outputs=x)"
   ]
  },
  {
   "cell_type": "code",
   "execution_count": 130,
   "metadata": {
    "collapsed": true
   },
   "outputs": [],
   "source": [
    "model.compile(optimizer=(Adam(lr=0.001)), metrics=[\"accuracy\"], loss=\"binary_crossentropy\")\n",
    "model.save_weights(\"pc_current\")"
   ]
  },
  {
   "cell_type": "code",
   "execution_count": 131,
   "metadata": {
    "collapsed": false
   },
   "outputs": [
    {
     "name": "stdout",
     "output_type": "stream",
     "text": [
      "Epoch 1/2\n",
      "150/150 [==============================] - 307s - loss: 0.6804 - acc: 0.6975 - val_loss: 0.7032 - val_acc: 0.6675\n",
      "Epoch 2/2\n",
      "150/150 [==============================] - 307s - loss: 0.5661 - acc: 0.7267 - val_loss: 0.5676 - val_acc: 0.7400\n"
     ]
    },
    {
     "data": {
      "text/plain": [
       "<keras.callbacks.History at 0x7fd4adbb3950>"
      ]
     },
     "execution_count": 131,
     "metadata": {},
     "output_type": "execute_result"
    }
   ],
   "source": [
    "model.fit_generator(gen,train_batch_count, epochs=2, validation_data=val_gen, validation_steps=val_batch_count)"
   ]
  },
  {
   "cell_type": "code",
   "execution_count": 129,
   "metadata": {
    "collapsed": false
   },
   "outputs": [
    {
     "name": "stdout",
     "output_type": "stream",
     "text": [
      "_________________________________________________________________\n",
      "Layer (type)                 Output Shape              Param #   \n",
      "=================================================================\n",
      "input_25 (InputLayer)        (None, 256, 256, 4)       0         \n",
      "_________________________________________________________________\n",
      "conv2d_34 (Conv2D)           (None, 254, 254, 128)     4736      \n",
      "_________________________________________________________________\n",
      "batch_normalization_59 (Batc (None, 254, 254, 128)     512       \n",
      "_________________________________________________________________\n",
      "average_pooling2d_27 (Averag (None, 127, 127, 128)     0         \n",
      "_________________________________________________________________\n",
      "average_pooling2d_28 (Averag (None, 63, 63, 128)       0         \n",
      "_________________________________________________________________\n",
      "flatten_20 (Flatten)         (None, 508032)            0         \n",
      "_________________________________________________________________\n",
      "dense_26 (Dense)             (None, 128)               65028224  \n",
      "_________________________________________________________________\n",
      "batch_normalization_60 (Batc (None, 128)               512       \n",
      "_________________________________________________________________\n",
      "dense_27 (Dense)             (None, 2)                 258       \n",
      "=================================================================\n",
      "Total params: 65,034,242\n",
      "Trainable params: 65,033,730\n",
      "Non-trainable params: 512\n",
      "_________________________________________________________________\n"
     ]
    }
   ],
   "source": [
    "model.summary()\n"
   ]
  },
  {
   "cell_type": "markdown",
   "metadata": {},
   "source": [
    "# VGG"
   ]
  },
  {
   "cell_type": "code",
   "execution_count": 144,
   "metadata": {
    "collapsed": false
   },
   "outputs": [
    {
     "data": {
      "text/plain": [
       "<module 'models.model' from 'models/model.py'>"
      ]
     },
     "execution_count": 144,
     "metadata": {},
     "output_type": "execute_result"
    }
   ],
   "source": [
    "import models.model as M\n",
    "reload(M)"
   ]
  },
  {
   "cell_type": "code",
   "execution_count": 141,
   "metadata": {
    "collapsed": false
   },
   "outputs": [],
   "source": [
    "model = vgg()\n"
   ]
  },
  {
   "cell_type": "code",
   "execution_count": 142,
   "metadata": {
    "collapsed": false
   },
   "outputs": [
    {
     "ename": "AttributeError",
     "evalue": "'NoneType' object has no attribute 'compile'",
     "output_type": "error",
     "traceback": [
      "\u001b[0;31m---------------------------------------------------------------------------\u001b[0m",
      "\u001b[0;31mAttributeError\u001b[0m                            Traceback (most recent call last)",
      "\u001b[0;32m<ipython-input-142-8b86e1581cc8>\u001b[0m in \u001b[0;36m<module>\u001b[0;34m()\u001b[0m\n\u001b[0;32m----> 1\u001b[0;31m \u001b[0mmodel\u001b[0m\u001b[0;34m.\u001b[0m\u001b[0mcompile\u001b[0m\u001b[0;34m(\u001b[0m\u001b[0moptimizer\u001b[0m\u001b[0;34m=\u001b[0m\u001b[0;34m(\u001b[0m\u001b[0mAdam\u001b[0m\u001b[0;34m(\u001b[0m\u001b[0mlr\u001b[0m\u001b[0;34m=\u001b[0m\u001b[0;36m0.001\u001b[0m\u001b[0;34m)\u001b[0m\u001b[0;34m)\u001b[0m\u001b[0;34m,\u001b[0m \u001b[0mmetrics\u001b[0m\u001b[0;34m=\u001b[0m\u001b[0;34m[\u001b[0m\u001b[0;34m\"accuracy\"\u001b[0m\u001b[0;34m]\u001b[0m\u001b[0;34m,\u001b[0m \u001b[0mloss\u001b[0m\u001b[0;34m=\u001b[0m\u001b[0;34m\"binary_crossentropy\"\u001b[0m\u001b[0;34m)\u001b[0m\u001b[0;34m\u001b[0m\u001b[0m\n\u001b[0m",
      "\u001b[0;31mAttributeError\u001b[0m: 'NoneType' object has no attribute 'compile'"
     ]
    }
   ],
   "source": [
    "model.compile(optimizer=(Adam(lr=0.001)), metrics=[\"accuracy\"], loss=\"binary_crossentropy\")\n"
   ]
  },
  {
   "cell_type": "code",
   "execution_count": null,
   "metadata": {
    "collapsed": true
   },
   "outputs": [],
   "source": [
    "model.fit_generator(gen,train_batch_count, epochs=2, validation_data=val_gen, validation_steps=val_batch_count)"
   ]
  },
  {
   "cell_type": "code",
   "execution_count": null,
   "metadata": {
    "collapsed": true
   },
   "outputs": [],
   "source": []
  }
 ],
 "metadata": {
  "anaconda-cloud": {},
  "kernelspec": {
   "display_name": "Python [conda root]",
   "language": "python",
   "name": "conda-root-py"
  },
  "language_info": {
   "codemirror_mode": {
    "name": "ipython",
    "version": 2
   },
   "file_extension": ".py",
   "mimetype": "text/x-python",
   "name": "python",
   "nbconvert_exporter": "python",
   "pygments_lexer": "ipython2",
   "version": "2.7.12"
  }
 },
 "nbformat": 4,
 "nbformat_minor": 1
}
