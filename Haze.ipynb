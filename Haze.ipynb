{
 "cells": [
  {
   "cell_type": "code",
   "execution_count": 2,
   "metadata": {
    "collapsed": false
   },
   "outputs": [
    {
     "data": {
      "text/plain": [
       "<module 'models.model' from 'models/model.pyc'>"
      ]
     },
     "execution_count": 2,
     "metadata": {},
     "output_type": "execute_result"
    }
   ],
   "source": [
    "from keras.optimizers import Adam\n",
    "from keras.callbacks import LearningRateScheduler\n",
    "from keras.preprocessing.image import ImageDataGenerator\n",
    "import utils as U\n",
    "reload(U)\n",
    "import image_loader as IM\n",
    "reload(IM)\n",
    "from theano.sandbox import cuda\n",
    "from keras.preprocessing import image\n",
    "%matplotlib inline\n",
    "import os\n",
    "from keras.models import Model\n",
    "from keras.layers import Dense, BatchNormalization, Input, Flatten, Conv2D, AveragePooling2D\n",
    "from keras.optimizers import Adam\n",
    "import models.model as M\n",
    "from keras.layers import Flatten, Dense, BatchNormalization\n",
    "from keras.models import Sequential\n",
    "from keras.layers import Dropout\n",
    "from keras.regularizers import l2\n",
    "reload(M)"
   ]
  },
  {
   "cell_type": "code",
   "execution_count": 18,
   "metadata": {
    "collapsed": false
   },
   "outputs": [],
   "source": [
    "from utils import binary_one_hot_mapping\n",
    "\n",
    "folder = \"data/train/\"\n",
    "train_folder = folder+\"train\"\n",
    "train_filenames = os.listdir(train_folder)\n",
    "validation_folder = folder+\"valid\"\n",
    "validation_filenames = os.listdir(validation_folder)\n",
    "batch_size = 64\n",
    "train_batch_count = len(train_filenames) / batch_size\n",
    "val_batch_count = len(validation_filenames) / batch_size\n",
    "\n",
    "mapping = binary_one_hot_mapping(\"haze\")\n",
    "\n",
    "train_labels = [ mapping[fname] for fname in train_filenames ]\n",
    "valid_labels = [ mapping[fname] for fname in validation_filenames ]"
   ]
  },
  {
   "cell_type": "code",
   "execution_count": 19,
   "metadata": {
    "collapsed": true
   },
   "outputs": [],
   "source": [
    "dense_layers = M.dense_layers(dropout=0.4, regularization=0.005)\n",
    "\n",
    "model = Sequential(dense_layers)"
   ]
  },
  {
   "cell_type": "code",
   "execution_count": 20,
   "metadata": {
    "collapsed": true
   },
   "outputs": [],
   "source": [
    "augmented_conv_features = U.load_array(\"precomputed-partly-cloudy-conv-features\",)\n",
    "augmented_val_features = U.load_array(\"precomputed-partly-cloudy-conv-val-features\")"
   ]
  },
  {
   "cell_type": "code",
   "execution_count": 23,
   "metadata": {
    "collapsed": false
   },
   "outputs": [
    {
     "name": "stdout",
     "output_type": "stream",
     "text": [
      "Train on 34816 samples, validate on 5632 samples\n",
      "Epoch 1/2\n",
      "34816/34816 [==============================] - 242s - loss: 14.0761 - acc: 0.6612 - val_loss: 8.8669 - val_acc: 0.7351\n",
      "Epoch 2/2\n",
      "34816/34816 [==============================] - 242s - loss: 7.3140 - acc: 0.7101 - val_loss: 4.9591 - val_acc: 0.8104\n"
     ]
    },
    {
     "data": {
      "text/plain": [
       "<keras.callbacks.History at 0x7fa3797fd110>"
      ]
     },
     "execution_count": 23,
     "metadata": {},
     "output_type": "execute_result"
    }
   ],
   "source": [
    "model.compile(optimizer=(Adam(lr=0.0001)), metrics=[\"accuracy\"], loss=\"categorical_crossentropy\")\n",
    "weights = { 0: 1, 1: 8 }\n",
    "model.fit(augmented_conv_features, train_labels, class_weight=weights, epochs=2, validation_data=(augmented_val_features, valid_labels), batch_size=batch_size)"
   ]
  },
  {
   "cell_type": "code",
   "execution_count": 24,
   "metadata": {
    "collapsed": false
   },
   "outputs": [
    {
     "name": "stdout",
     "output_type": "stream",
     "text": [
      "Train on 34816 samples, validate on 5632 samples\n",
      "Epoch 1/4\n",
      "34816/34816 [==============================] - 242s - loss: 3.3282 - acc: 0.8980 - val_loss: 2.2231 - val_acc: 0.9364\n",
      "Epoch 2/4\n",
      "34816/34816 [==============================] - 242s - loss: 1.7188 - acc: 0.9239 - val_loss: 1.2729 - val_acc: 0.9281\n",
      "Epoch 3/4\n",
      "34816/34816 [==============================] - 242s - loss: 1.0453 - acc: 0.9253 - val_loss: 0.7842 - val_acc: 0.9375\n",
      "Epoch 4/4\n",
      "34816/34816 [==============================] - 242s - loss: 0.7433 - acc: 0.9243 - val_loss: 0.5998 - val_acc: 0.9380\n"
     ]
    },
    {
     "data": {
      "text/plain": [
       "<keras.callbacks.History at 0x7fa296d4d6d0>"
      ]
     },
     "execution_count": 24,
     "metadata": {},
     "output_type": "execute_result"
    }
   ],
   "source": [
    "model.fit(augmented_conv_features, train_labels, epochs=4, validation_data=(augmented_val_features, valid_labels), batch_size=batch_size)"
   ]
  },
  {
   "cell_type": "code",
   "execution_count": 25,
   "metadata": {
    "collapsed": true
   },
   "outputs": [],
   "source": [
    "model.save_weights(\"weights/haze-top\")"
   ]
  },
  {
   "cell_type": "code",
   "execution_count": 26,
   "metadata": {
    "collapsed": false
   },
   "outputs": [
    {
     "name": "stdout",
     "output_type": "stream",
     "text": [
      "Train on 34816 samples, validate on 5632 samples\n",
      "Epoch 1/2\n",
      "34816/34816 [==============================] - 242s - loss: 3.4667 - acc: 0.6691 - val_loss: 2.0060 - val_acc: 0.7828\n",
      "Epoch 2/2\n",
      "34816/34816 [==============================] - 242s - loss: 2.4452 - acc: 0.5404 - val_loss: 1.6361 - val_acc: 0.8462\n"
     ]
    },
    {
     "data": {
      "text/plain": [
       "<keras.callbacks.History at 0x7fa3797fd750>"
      ]
     },
     "execution_count": 26,
     "metadata": {},
     "output_type": "execute_result"
    }
   ],
   "source": [
    "weights = { 0: 1, 1: 13.5 }\n",
    "model.fit(augmented_conv_features, train_labels, class_weight=weights, epochs=2, validation_data=(augmented_val_features, valid_labels), batch_size=batch_size)"
   ]
  },
  {
   "cell_type": "code",
   "execution_count": null,
   "metadata": {
    "collapsed": false
   },
   "outputs": [
    {
     "name": "stdout",
     "output_type": "stream",
     "text": [
      "Train on 34816 samples, validate on 5632 samples\n",
      "Epoch 1/2\n",
      "34816/34816 [==============================] - 242s - loss: 2.2679 - acc: 0.5390 - val_loss: 1.5725 - val_acc: 0.1467\n",
      "Epoch 2/2\n",
      "34816/34816 [==============================] - 242s - loss: 2.1288 - acc: 0.5317 - val_loss: 1.4293 - val_acc: 0.4098\n"
     ]
    },
    {
     "data": {
      "text/plain": [
       "<keras.callbacks.History at 0x7fa296c3bb50>"
      ]
     },
     "execution_count": 27,
     "metadata": {},
     "output_type": "execute_result"
    }
   ],
   "source": [
    "weights = { 0: 1, 1: 13.5 }\n",
    "model.fit(augmented_conv_features, train_labels, class_weight=weights, epochs=2, validation_data=(augmented_val_features, valid_labels), batch_size=batch_size)"
   ]
  },
  {
   "cell_type": "code",
   "execution_count": null,
   "metadata": {
    "collapsed": false
   },
   "outputs": [
    {
     "name": "stdout",
     "output_type": "stream",
     "text": [
      "Train on 34816 samples, validate on 5632 samples\n",
      "Epoch 1/2\n",
      "34816/34816 [==============================] - 242s - loss: 2.0802 - acc: 0.5451 - val_loss: 1.2461 - val_acc: 0.7793\n",
      "Epoch 2/2\n",
      "12864/34816 [==========>...................] - ETA: 137s - loss: 1.9348 - acc: 0.5311"
     ]
    }
   ],
   "source": [
    "model.fit(augmented_conv_features, train_labels, class_weight=weights, epochs=2, validation_data=(augmented_val_features, valid_labels), batch_size=batch_size)"
   ]
  },
  {
   "cell_type": "code",
   "execution_count": null,
   "metadata": {
    "collapsed": true
   },
   "outputs": [],
   "source": [
    "12"
   ]
  }
 ],
 "metadata": {
  "anaconda-cloud": {},
  "kernelspec": {
   "display_name": "Python [conda root]",
   "language": "python",
   "name": "conda-root-py"
  },
  "language_info": {
   "codemirror_mode": {
    "name": "ipython",
    "version": 2
   },
   "file_extension": ".py",
   "mimetype": "text/x-python",
   "name": "python",
   "nbconvert_exporter": "python",
   "pygments_lexer": "ipython2",
   "version": "2.7.12"
  }
 },
 "nbformat": 4,
 "nbformat_minor": 1
}
